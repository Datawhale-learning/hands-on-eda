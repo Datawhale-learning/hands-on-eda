{
 "cells": [
  {
   "cell_type": "markdown",
   "metadata": {},
   "source": [
    "# 导入模块"
   ]
  },
  {
   "cell_type": "code",
   "execution_count": 1,
   "metadata": {},
   "outputs": [],
   "source": [
    "import os\n",
    "import pandas as pd"
   ]
  },
  {
   "cell_type": "code",
   "execution_count": 14,
   "metadata": {},
   "outputs": [
    {
     "data": {
      "text/plain": [
       "['test_cut.csv',\n",
       " '第二章：第一节数据清洗及特征处理.ipynb',\n",
       " '第二章：第三节数据重构2-课程.ipynb',\n",
       " '.DS_Store',\n",
       " '第二章：第一节数据清洗及特征处理-课程.ipynb',\n",
       " 'test_fin.csv',\n",
       " '第二章：第四节数据可视化.ipynb',\n",
       " 'vis_data',\n",
       " '.ipynb_checkpoints',\n",
       " 'train.csv',\n",
       " 'sex_fare_survived.csv',\n",
       " '第二章：第三节数据重构2.ipynb',\n",
       " 'result.csv',\n",
       " 'test_clear.csv',\n",
       " '第二章：第二节数据重构1.ipynb',\n",
       " 'data',\n",
       " '第二章：第二节数据重构1-课程.ipynb',\n",
       " 'test_ave.csv',\n",
       " '第二章：第四节数据可视化-课程.ipynb',\n",
       " 'unit_result.csv',\n",
       " 'test_pr.csv']"
      ]
     },
     "execution_count": 14,
     "metadata": {},
     "output_type": "execute_result"
    }
   ],
   "source": [
    "os.listdir('../../../Datawhale_learning/hands_on_eda/hands-on-data-analysis/第二章项目集合/')"
   ]
  },
  {
   "cell_type": "code",
   "execution_count": null,
   "metadata": {},
   "outputs": [],
   "source": []
  }
 ],
 "metadata": {
  "kernelspec": {
   "display_name": "Python 3",
   "language": "python",
   "name": "python3"
  },
  "language_info": {
   "codemirror_mode": {
    "name": "ipython",
    "version": 3
   },
   "file_extension": ".py",
   "mimetype": "text/x-python",
   "name": "python",
   "nbconvert_exporter": "python",
   "pygments_lexer": "ipython3",
   "version": "3.8.3"
  },
  "toc": {
   "base_numbering": 1,
   "nav_menu": {},
   "number_sections": true,
   "sideBar": true,
   "skip_h1_title": false,
   "title_cell": "Table of Contents",
   "title_sidebar": "Contents",
   "toc_cell": false,
   "toc_position": {},
   "toc_section_display": true,
   "toc_window_display": false
  }
 },
 "nbformat": 4,
 "nbformat_minor": 4
}
