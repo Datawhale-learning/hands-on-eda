{
 "metadata": {
  "language_info": {
   "codemirror_mode": {
    "name": "ipython",
    "version": 3
   },
   "file_extension": ".py",
   "mimetype": "text/x-python",
   "name": "python",
   "nbconvert_exporter": "python",
   "pygments_lexer": "ipython3",
   "version": "3.7.4-final"
  },
  "orig_nbformat": 2,
  "kernelspec": {
   "name": "python3",
   "display_name": "Python 3"
  }
 },
 "nbformat": 4,
 "nbformat_minor": 2,
 "cells": [
  {
   "cell_type": "code",
   "execution_count": 2,
   "metadata": {
    "tags": []
   },
   "outputs": [
    {
     "output_type": "stream",
     "name": "stderr",
     "text": "Illegal line #1\n\t\"{\\rtf1\\ansi\\ansicpg936\\cocoartf1671\\cocoasubrtf200\n\"\n\tin file \"/Users/ousei/.matplotlib/matplotlibrc\"\nIllegal line #2\n\t\"{\\fonttbl\\f0\\fnil\\fcharset0 Menlo-Regular;}\n\"\n\tin file \"/Users/ousei/.matplotlib/matplotlibrc\"\nIllegal line #3\n\t\"{\\colortbl;\\red255\\green255\\blue255;\\red0\\green0\\blue0;\\red255\\green255\\blue255;}\n\"\n\tin file \"/Users/ousei/.matplotlib/matplotlibrc\"\nIllegal line #4\n\t\"{\\*\\expandedcolortbl;;\\cssrgb\\c0\\c0\\c0;\\cssrgb\\c100000\\c100000\\c100000;}\n\"\n\tin file \"/Users/ousei/.matplotlib/matplotlibrc\"\nIllegal line #5\n\t\"\\paperw11900\\paperh16840\\margl1440\\margr1440\\vieww10800\\viewh8400\\viewkind0\n\"\n\tin file \"/Users/ousei/.matplotlib/matplotlibrc\"\nIllegal line #6\n\t\"\\deftab720\n\"\n\tin file \"/Users/ousei/.matplotlib/matplotlibrc\"\nIllegal line #7\n\t\"\\pard\\pardeftab720\\sl260\\partightenfactor0\n\"\n\tin file \"/Users/ousei/.matplotlib/matplotlibrc\"\nIllegal line #9\n\t\"\\f0\\fs22 \\cf2 \\cb3 \\expnd0\\expndtw0\\kerning0\n\"\n\tin file \"/Users/ousei/.matplotlib/matplotlibrc\"\n\nBad key \"\\outl0\\strokewidth0 \\strokec2 backend\" on line 10 in\n/Users/ousei/.matplotlib/matplotlibrc.\nYou probably need to get an updated matplotlibrc file from\nhttp://github.com/matplotlib/matplotlib/blob/master/matplotlibrc.template\nor from the matplotlib source distribution\n"
    }
   ],
   "source": [
    "import pandas as pd\n",
    "\n",
    "chunker = pd.read_csv('train.csv',chunksize=1000)"
   ]
  },
  {
   "cell_type": "markdown",
   "metadata": {},
   "source": [
    "【思考】什么是逐块读取？为什么要逐块读取呢？\n",
    "\n",
    "使用pandas来处理文件的时候,经常会遇到大文件,而有时候我们只想要读取其中的一部分数据或对文件进行逐块处理"
   ]
  },
  {
   "cell_type": "code",
   "execution_count": 3,
   "metadata": {},
   "outputs": [],
   "source": [
    "chunker = pd.read_csv('train.csv',chunksize=1000)"
   ]
  },
  {
   "cell_type": "markdown",
   "metadata": {},
   "source": [
    "将表头改成中文，索引改为乘客ID\n",
    "\n",
    "参数index_col指定索引\n",
    "\n",
    "如果明确设定header=0 就会替换掉原来存在列名"
   ]
  },
  {
   "cell_type": "code",
   "execution_count": 4,
   "metadata": {},
   "outputs": [
    {
     "output_type": "execute_result",
     "data": {
      "text/plain": "      是否幸存  仓位等级                                                 姓名      性别  \\\n乘客ID                                                                          \n1        0     3                            Braund, Mr. Owen Harris    male   \n2        1     1  Cumings, Mrs. John Bradley (Florence Briggs Th...  female   \n3        1     3                             Heikkinen, Miss. Laina  female   \n4        1     1       Futrelle, Mrs. Jacques Heath (Lily May Peel)  female   \n5        0     3                           Allen, Mr. William Henry    male   \n\n        年龄  兄弟姐妹个数  父母子女个数              船票信息       票价    客舱 登船港口  \n乘客ID                                                              \n1     22.0       1       0         A/5 21171   7.2500   NaN    S  \n2     38.0       1       0          PC 17599  71.2833   C85    C  \n3     26.0       0       0  STON/O2. 3101282   7.9250   NaN    S  \n4     35.0       1       0            113803  53.1000  C123    S  \n5     35.0       0       0            373450   8.0500   NaN    S  ",
      "text/html": "<div>\n<style scoped>\n    .dataframe tbody tr th:only-of-type {\n        vertical-align: middle;\n    }\n\n    .dataframe tbody tr th {\n        vertical-align: top;\n    }\n\n    .dataframe thead th {\n        text-align: right;\n    }\n</style>\n<table border=\"1\" class=\"dataframe\">\n  <thead>\n    <tr style=\"text-align: right;\">\n      <th></th>\n      <th>是否幸存</th>\n      <th>仓位等级</th>\n      <th>姓名</th>\n      <th>性别</th>\n      <th>年龄</th>\n      <th>兄弟姐妹个数</th>\n      <th>父母子女个数</th>\n      <th>船票信息</th>\n      <th>票价</th>\n      <th>客舱</th>\n      <th>登船港口</th>\n    </tr>\n    <tr>\n      <th>乘客ID</th>\n      <th></th>\n      <th></th>\n      <th></th>\n      <th></th>\n      <th></th>\n      <th></th>\n      <th></th>\n      <th></th>\n      <th></th>\n      <th></th>\n      <th></th>\n    </tr>\n  </thead>\n  <tbody>\n    <tr>\n      <td>1</td>\n      <td>0</td>\n      <td>3</td>\n      <td>Braund, Mr. Owen Harris</td>\n      <td>male</td>\n      <td>22.0</td>\n      <td>1</td>\n      <td>0</td>\n      <td>A/5 21171</td>\n      <td>7.2500</td>\n      <td>NaN</td>\n      <td>S</td>\n    </tr>\n    <tr>\n      <td>2</td>\n      <td>1</td>\n      <td>1</td>\n      <td>Cumings, Mrs. John Bradley (Florence Briggs Th...</td>\n      <td>female</td>\n      <td>38.0</td>\n      <td>1</td>\n      <td>0</td>\n      <td>PC 17599</td>\n      <td>71.2833</td>\n      <td>C85</td>\n      <td>C</td>\n    </tr>\n    <tr>\n      <td>3</td>\n      <td>1</td>\n      <td>3</td>\n      <td>Heikkinen, Miss. Laina</td>\n      <td>female</td>\n      <td>26.0</td>\n      <td>0</td>\n      <td>0</td>\n      <td>STON/O2. 3101282</td>\n      <td>7.9250</td>\n      <td>NaN</td>\n      <td>S</td>\n    </tr>\n    <tr>\n      <td>4</td>\n      <td>1</td>\n      <td>1</td>\n      <td>Futrelle, Mrs. Jacques Heath (Lily May Peel)</td>\n      <td>female</td>\n      <td>35.0</td>\n      <td>1</td>\n      <td>0</td>\n      <td>113803</td>\n      <td>53.1000</td>\n      <td>C123</td>\n      <td>S</td>\n    </tr>\n    <tr>\n      <td>5</td>\n      <td>0</td>\n      <td>3</td>\n      <td>Allen, Mr. William Henry</td>\n      <td>male</td>\n      <td>35.0</td>\n      <td>0</td>\n      <td>0</td>\n      <td>373450</td>\n      <td>8.0500</td>\n      <td>NaN</td>\n      <td>S</td>\n    </tr>\n  </tbody>\n</table>\n</div>"
     },
     "metadata": {},
     "execution_count": 4
    }
   ],
   "source": [
    "df = pd.read_csv('train.csv', names=['乘客ID','是否幸存','仓位等级','姓名','性别','年龄','兄弟姐妹个数','父母子女个数','船票信息','票价','客舱','登船港口'],index_col='乘客ID',header=0)\n",
    "df.head()"
   ]
  },
  {
   "cell_type": "markdown",
   "metadata": {},
   "source": [
    "将英文额度表头替换成中文。其他方法。"
   ]
  },
  {
   "cell_type": "code",
   "execution_count": 5,
   "metadata": {},
   "outputs": [
    {
     "output_type": "execute_result",
     "data": {
      "text/plain": "   乘客ID  是否幸存  仓位等级                                                 姓名  \\\n0     1     0     3                            Braund, Mr. Owen Harris   \n1     2     1     1  Cumings, Mrs. John Bradley (Florence Briggs Th...   \n2     3     1     3                             Heikkinen, Miss. Laina   \n3     4     1     1       Futrelle, Mrs. Jacques Heath (Lily May Peel)   \n4     5     0     3                           Allen, Mr. William Henry   \n\n       性别    年龄  兄弟姐妹个数  父母子女个数              船票信息       票价    客舱 登船港口  \n0    male  22.0       1       0         A/5 21171   7.2500   NaN    S  \n1  female  38.0       1       0          PC 17599  71.2833   C85    C  \n2  female  26.0       0       0  STON/O2. 3101282   7.9250   NaN    S  \n3  female  35.0       1       0            113803  53.1000  C123    S  \n4    male  35.0       0       0            373450   8.0500   NaN    S  ",
      "text/html": "<div>\n<style scoped>\n    .dataframe tbody tr th:only-of-type {\n        vertical-align: middle;\n    }\n\n    .dataframe tbody tr th {\n        vertical-align: top;\n    }\n\n    .dataframe thead th {\n        text-align: right;\n    }\n</style>\n<table border=\"1\" class=\"dataframe\">\n  <thead>\n    <tr style=\"text-align: right;\">\n      <th></th>\n      <th>乘客ID</th>\n      <th>是否幸存</th>\n      <th>仓位等级</th>\n      <th>姓名</th>\n      <th>性别</th>\n      <th>年龄</th>\n      <th>兄弟姐妹个数</th>\n      <th>父母子女个数</th>\n      <th>船票信息</th>\n      <th>票价</th>\n      <th>客舱</th>\n      <th>登船港口</th>\n    </tr>\n  </thead>\n  <tbody>\n    <tr>\n      <td>0</td>\n      <td>1</td>\n      <td>0</td>\n      <td>3</td>\n      <td>Braund, Mr. Owen Harris</td>\n      <td>male</td>\n      <td>22.0</td>\n      <td>1</td>\n      <td>0</td>\n      <td>A/5 21171</td>\n      <td>7.2500</td>\n      <td>NaN</td>\n      <td>S</td>\n    </tr>\n    <tr>\n      <td>1</td>\n      <td>2</td>\n      <td>1</td>\n      <td>1</td>\n      <td>Cumings, Mrs. John Bradley (Florence Briggs Th...</td>\n      <td>female</td>\n      <td>38.0</td>\n      <td>1</td>\n      <td>0</td>\n      <td>PC 17599</td>\n      <td>71.2833</td>\n      <td>C85</td>\n      <td>C</td>\n    </tr>\n    <tr>\n      <td>2</td>\n      <td>3</td>\n      <td>1</td>\n      <td>3</td>\n      <td>Heikkinen, Miss. Laina</td>\n      <td>female</td>\n      <td>26.0</td>\n      <td>0</td>\n      <td>0</td>\n      <td>STON/O2. 3101282</td>\n      <td>7.9250</td>\n      <td>NaN</td>\n      <td>S</td>\n    </tr>\n    <tr>\n      <td>3</td>\n      <td>4</td>\n      <td>1</td>\n      <td>1</td>\n      <td>Futrelle, Mrs. Jacques Heath (Lily May Peel)</td>\n      <td>female</td>\n      <td>35.0</td>\n      <td>1</td>\n      <td>0</td>\n      <td>113803</td>\n      <td>53.1000</td>\n      <td>C123</td>\n      <td>S</td>\n    </tr>\n    <tr>\n      <td>4</td>\n      <td>5</td>\n      <td>0</td>\n      <td>3</td>\n      <td>Allen, Mr. William Henry</td>\n      <td>male</td>\n      <td>35.0</td>\n      <td>0</td>\n      <td>0</td>\n      <td>373450</td>\n      <td>8.0500</td>\n      <td>NaN</td>\n      <td>S</td>\n    </tr>\n  </tbody>\n</table>\n</div>"
     },
     "metadata": {},
     "execution_count": 5
    }
   ],
   "source": [
    "df = pd.read_csv('train.csv')\n",
    "df.columns = ['乘客ID','是否幸存','仓位等级','姓名','性别','年龄','兄弟姐妹个数','父母子女个数','船票信息','票价','客舱','登船港口']\n",
    "df.set_index('乘客ID')\n",
    "df.head()"
   ]
  },
  {
   "cell_type": "markdown",
   "metadata": {},
   "source": [
    "查看表的一些基本信息\n",
    "\n",
    "导入数据后，你可能要对数据的整体结构和样例进行概览，比如说，数据大小、有多少列，各列都是什么格式的，是否包含null等"
   ]
  },
  {
   "cell_type": "code",
   "execution_count": 10,
   "metadata": {
    "tags": []
   },
   "outputs": [
    {
     "output_type": "stream",
     "name": "stdout",
     "text": "<class 'pandas.core.frame.DataFrame'>\nRangeIndex: 891 entries, 0 to 890\nData columns (total 12 columns):\n乘客ID      891 non-null int64\n是否幸存      891 non-null int64\n仓位等级      891 non-null int64\n姓名        891 non-null object\n性别        891 non-null object\n年龄        714 non-null float64\n兄弟姐妹个数    891 non-null int64\n父母子女个数    891 non-null int64\n船票信息      891 non-null object\n票价        891 non-null float64\n客舱        204 non-null object\n登船港口      889 non-null object\ndtypes: float64(2), int64(5), object(5)\nmemory usage: 83.7+ KB\n"
    }
   ],
   "source": [
    "df.info()"
   ]
  },
  {
   "cell_type": "code",
   "execution_count": 7,
   "metadata": {
    "tags": []
   },
   "outputs": [
    {
     "output_type": "stream",
     "name": "stdout",
     "text": "RangeIndex(start=0, stop=891, step=1)\nIndex(['乘客ID', '是否幸存', '仓位等级', '姓名', '性别', '年龄', '兄弟姐妹个数', '父母子女个数', '船票信息',\n       '票价', '客舱', '登船港口'],\n      dtype='object')\n(891, 12)\n"
    }
   ],
   "source": [
    "print(df.index) #查看索引\n",
    "print(df.columns) #查看表头\n",
    "print(df.shape) #查看行列数"
   ]
  },
  {
   "cell_type": "code",
   "execution_count": 8,
   "metadata": {},
   "outputs": [
    {
     "output_type": "execute_result",
     "data": {
      "text/plain": "乘客ID        0\n是否幸存        0\n仓位等级        0\n姓名          0\n性别          0\n年龄        177\n兄弟姐妹个数      0\n父母子女个数      0\n船票信息        0\n票价          0\n客舱        687\n登船港口        2\ndtype: int64"
     },
     "metadata": {},
     "execution_count": 8
    }
   ],
   "source": [
    "#查看是否存在缺失值的函数\n",
    "df.isna().sum()"
   ]
  },
  {
   "cell_type": "code",
   "execution_count": null,
   "metadata": {},
   "outputs": [],
   "source": []
  }
 ]
}